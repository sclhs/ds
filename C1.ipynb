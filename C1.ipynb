{
 "cells": [
  {
   "cell_type": "code",
   "execution_count": 1,
   "id": "7a551b21",
   "metadata": {},
   "outputs": [],
   "source": [
    "import requests\n",
    "import bs4"
   ]
  },
  {
   "cell_type": "code",
   "execution_count": 4,
   "id": "84ca828b",
   "metadata": {},
   "outputs": [],
   "source": [
    "url = 'https://www.flipkart.com/boat-rockerz-450-upto-15-hours-playback-bluetooth-headset/p/itm077a566bd128b?pid=ACCFEHZ8GSGWMMSD&lid=LSTACCFEHZ8GSGWMMSDXS5YX5&marketplace=FLIPKART&q=boat&store=0pm%2Ffcn&srno=s_1_1&otracker=search&otracker1=search&fm=Search&iid=0eeb2137-9214-4c92-bb0c-641834b52dbf.ACCFEHZ8GSGWMMSD.SEARCH&ppt=sp&ppn=sp&qH=dd8fc45d87f91c6f'"
   ]
  },
  {
   "cell_type": "code",
   "execution_count": 5,
   "id": "3d4976c2",
   "metadata": {},
   "outputs": [
    {
     "data": {
      "text/plain": [
       "<Response [500]>"
      ]
     },
     "execution_count": 5,
     "metadata": {},
     "output_type": "execute_result"
    }
   ],
   "source": [
    "request1 = requests.get(url)\n",
    "request1"
   ]
  },
  {
   "cell_type": "code",
   "execution_count": 6,
   "id": "70dec081",
   "metadata": {},
   "outputs": [
    {
     "data": {
      "text/plain": [
       "b'<html><body><h1>500 Internal Server Error</h1>\\nAn internal server error occurred.\\n</body></html>\\n'"
      ]
     },
     "execution_count": 6,
     "metadata": {},
     "output_type": "execute_result"
    }
   ],
   "source": [
    "request1.content"
   ]
  },
  {
   "cell_type": "code",
   "execution_count": 7,
   "id": "84d096a7",
   "metadata": {},
   "outputs": [],
   "source": [
    "soup = bs4.BeautifulSoup(request1.text)"
   ]
  },
  {
   "cell_type": "code",
   "execution_count": 8,
   "id": "2c373eb3",
   "metadata": {},
   "outputs": [
    {
     "data": {
      "text/plain": [
       "<html><body><h1>500 Internal Server Error</h1>\n",
       "An internal server error occurred.\n",
       "</body></html>"
      ]
     },
     "execution_count": 8,
     "metadata": {},
     "output_type": "execute_result"
    }
   ],
   "source": [
    "soup"
   ]
  },
  {
   "cell_type": "code",
   "execution_count": 9,
   "id": "fdeb5f4c",
   "metadata": {},
   "outputs": [],
   "source": [
    "#Review\n",
    "reviews = soup.findAll('div', {'class' : ''});\n",
    "\n",
    "for review in reviews:\n",
    "    print(review.get_text() + \"\\n\")"
   ]
  },
  {
   "cell_type": "code",
   "execution_count": 10,
   "id": "f04c5612",
   "metadata": {},
   "outputs": [
    {
     "ename": "AttributeError",
     "evalue": "'NoneType' object has no attribute 'get_text'",
     "output_type": "error",
     "traceback": [
      "\u001b[1;31m---------------------------------------------------------------------------\u001b[0m",
      "\u001b[1;31mAttributeError\u001b[0m                            Traceback (most recent call last)",
      "Cell \u001b[1;32mIn[10], line 2\u001b[0m\n\u001b[0;32m      1\u001b[0m \u001b[38;5;66;03m#avg rating\u001b[39;00m\n\u001b[1;32m----> 2\u001b[0m avg_ratings \u001b[38;5;241m=\u001b[39m soup\u001b[38;5;241m.\u001b[39mfind(\u001b[38;5;124m'\u001b[39m\u001b[38;5;124mdiv\u001b[39m\u001b[38;5;124m'\u001b[39m,{\u001b[38;5;124m'\u001b[39m\u001b[38;5;124mclass\u001b[39m\u001b[38;5;124m'\u001b[39m:\u001b[38;5;124m'\u001b[39m\u001b[38;5;124m'\u001b[39m})\u001b[38;5;241m.\u001b[39mget_text();\n\u001b[0;32m      3\u001b[0m \u001b[38;5;28mprint\u001b[39m(ratings)\n",
      "\u001b[1;31mAttributeError\u001b[0m: 'NoneType' object has no attribute 'get_text'"
     ]
    }
   ],
   "source": [
    "#avg rating\n",
    "avg_ratings = soup.find('div',{'class':''}).get_text();\n",
    "print(avg_ratings)"
   ]
  },
  {
   "cell_type": "code",
   "execution_count": 11,
   "id": "32d99f80",
   "metadata": {},
   "outputs": [],
   "source": [
    "#individual rating\n",
    "ratings = soup.findAll('div', {'class':''});\n",
    "\n",
    "for indi_rating in ratings:\n",
    "    print(indi_rating.get_text() + \"\\n\")"
   ]
  },
  {
   "cell_type": "code",
   "execution_count": 12,
   "id": "f14f8157",
   "metadata": {},
   "outputs": [],
   "source": [
    "#customer name\n",
    "customers = soup.findAll('div',{'class':''});\n",
    "\n",
    "for customer_name in customers:\n",
    "    print(customer_name.get_text() + \"\\n\")"
   ]
  },
  {
   "cell_type": "code",
   "execution_count": null,
   "id": "743b2fb5",
   "metadata": {},
   "outputs": [],
   "source": [
    "tags = soup.find('div',{'class': ''}).get_text();\n",
    "tags"
   ]
  }
 ],
 "metadata": {
  "kernelspec": {
   "display_name": "Python 3 (ipykernel)",
   "language": "python",
   "name": "python3"
  },
  "language_info": {
   "codemirror_mode": {
    "name": "ipython",
    "version": 3
   },
   "file_extension": ".py",
   "mimetype": "text/x-python",
   "name": "python",
   "nbconvert_exporter": "python",
   "pygments_lexer": "ipython3",
   "version": "3.11.4"
  }
 },
 "nbformat": 4,
 "nbformat_minor": 5
}
